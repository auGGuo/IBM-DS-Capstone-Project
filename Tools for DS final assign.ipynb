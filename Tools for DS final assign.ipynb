{
 "cells": [
  {
   "cell_type": "markdown",
   "id": "7453f3cd",
   "metadata": {},
   "source": [
    "<h1> My Jupyter Notebook on IBM Watson Studio"
   ]
  },
  {
   "cell_type": "markdown",
   "id": "cc85fa0c",
   "metadata": {},
   "source": [
    "<b>Xinhai Guo</b>\n",
    "<br> Desired occupation: data scientist"
   ]
  },
  {
   "cell_type": "markdown",
   "id": "f3b93830",
   "metadata": {},
   "source": [
    "_I am interested in data science because I want to understand environemntal data better._"
   ]
  },
  {
   "cell_type": "markdown",
   "id": "4db37433",
   "metadata": {},
   "source": [
    "<h3> Get the sum of 1 to 3"
   ]
  },
  {
   "cell_type": "code",
   "execution_count": 1,
   "id": "ba758c59-9ecd-48e5-a6cf-517cefed7ba0",
   "metadata": {},
   "outputs": [
    {
     "data": {
      "text/plain": [
       "6"
      ]
     },
     "execution_count": 1,
     "metadata": {},
     "output_type": "execute_result"
    }
   ],
   "source": [
    "1 + 2 + 3"
   ]
  },
  {
   "cell_type": "markdown",
   "id": "b1be59e3",
   "metadata": {},
   "source": [
    "*** \n",
    "To do\n",
    "* grocery\n",
    "* get beer\n",
    "\n",
    "***\n",
    "Grocery list\n",
    "1. fruits\n",
    "2. steak\n",
    "\n",
    "| City | Distance |\n",
    "| :-: | :-: |\n",
    "| Montreal | 100km |\n",
    "| Kingston | 200km |\n"
   ]
  },
  {
   "cell_type": "code",
   "execution_count": null,
   "id": "1bd0acc3-afd0-4572-ac76-a455bee69dff",
   "metadata": {},
   "outputs": [],
   "source": []
  },
  {
   "cell_type": "code",
   "execution_count": null,
   "id": "c68b51e3-0eb7-4816-8e21-3579bbf9a09a",
   "metadata": {},
   "outputs": [],
   "source": []
  },
  {
   "cell_type": "code",
   "execution_count": null,
   "id": "a42430f5-de61-4389-b825-e266bc9008f5",
   "metadata": {},
   "outputs": [],
   "source": []
  }
 ],
 "metadata": {
  "kernelspec": {
   "display_name": "Python 3 (ipykernel)",
   "language": "python",
   "name": "python3"
  },
  "language_info": {
   "codemirror_mode": {
    "name": "ipython",
    "version": 3
   },
   "file_extension": ".py",
   "mimetype": "text/x-python",
   "name": "python",
   "nbconvert_exporter": "python",
   "pygments_lexer": "ipython3",
   "version": "3.7.9"
  }
 },
 "nbformat": 4,
 "nbformat_minor": 5
}
